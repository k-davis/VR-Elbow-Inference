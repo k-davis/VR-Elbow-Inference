{
 "cells": [
  {
   "cell_type": "code",
   "execution_count": 1,
   "metadata": {},
   "outputs": [],
   "source": [
    "import matplotlib.pyplot as plt\n",
    "import json\n",
    "import time\n",
    "from IPython.display import clear_output\n",
    "%matplotlib inline"
   ]
  },
  {
   "cell_type": "code",
   "execution_count": 2,
   "metadata": {},
   "outputs": [],
   "source": [
    "mocap = json.load(open(\"E:\\Desktop\\github\\VR-Elbow-Inference\\mocap_data\\80\\80_10.json\"))"
   ]
  },
  {
   "cell_type": "code",
   "execution_count": 3,
   "metadata": {},
   "outputs": [],
   "source": [
    "def getFrame(coord_num, frame_num):\n",
    "    frame_values = []\n",
    "    for joint in mocap[str(frame_num)].values():\n",
    "        frame_values.append(joint.get(\"coordinate\")[coord_num])\n",
    "    return frame_values"
   ]
  },
  {
   "cell_type": "code",
   "execution_count": 4,
   "metadata": {},
   "outputs": [],
   "source": [
    "frame_number = \"1\"\n",
    "x = getFrame(0, frame_number)\n",
    "y = getFrame(1, frame_number)\n",
    "z = getFrame(2, frame_number)"
   ]
  },
  {
   "cell_type": "code",
   "execution_count": 5,
   "metadata": {},
   "outputs": [],
   "source": [
    "frames = {\"x\": [], \"y\": [], \"z\": []}\n",
    "def prep_frames():\n",
    "    for i in range(772):\n",
    "        x = getFrame(0, i)\n",
    "        y = getFrame(1, i)\n",
    "        z = getFrame(2, i)\n",
    "        frames[\"x\"].append(x)\n",
    "        frames[\"y\"].append(y)\n",
    "        frames[\"z\"].append(z)\n",
    "    \n",
    "def draw_frame(frame_number):\n",
    "    clear_output(wait=True)\n",
    "    plt.axis(\"equal\")\n",
    "    plt.scatter(frames[\"x\"][frame_number], frames[\"y\"][frame_number], s=1)\n"
   ]
  },
  {
   "cell_type": "code",
   "execution_count": 6,
   "metadata": {},
   "outputs": [
    {
     "data": {
      "image/png": "[encoded data removed]",
      "text/plain": [
       "<Figure size 432x288 with 1 Axes>"
      ]
     },
     "metadata": {
      "needs_background": "light"
     },
     "output_type": "display_data"
    }
   ],
   "source": [
    "prep_frames()\n",
    "\n",
    "for i in range(772):\n",
    "    draw_frame(i)\n",
    "    plt.pause(0.005)\n",
    "\n",
    "plt.show()"
   ]
  },
  {
   "cell_type": "code",
   "execution_count": null,
   "metadata": {},
   "outputs": [],
   "source": []
  }
 ],
 "metadata": {
  "kernelspec": {
   "display_name": "Python 3",
   "language": "python",
   "name": "python3"
  },
  "language_info": {
   "codemirror_mode": {
    "name": "ipython",
    "version": 3
   },
   "file_extension": ".py",
   "mimetype": "text/x-python",
   "name": "python",
   "nbconvert_exporter": "python",
   "pygments_lexer": "ipython3",
   "version": "3.7.4"
  }
 },
 "nbformat": 4,
 "nbformat_minor": 2
}
