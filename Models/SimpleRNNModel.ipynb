{
 "cells": [
  {
   "cell_type": "code",
   "execution_count": 3,
   "metadata": {},
   "outputs": [],
   "source": [
    "import tensorflow as tf\n",
    "from tensorflow.keras.callbacks import TensorBoard\n",
    "import tensorflow.keras.layers\n",
    "import time\n",
    "import sys"
   ]
  },
  {
   "cell_type": "code",
   "execution_count": 6,
   "metadata": {},
   "outputs": [],
   "source": [
    "sys.path.append('..')\n",
    "from KerasUtils import TimeSeriesFormatter, Metrics"
   ]
  },
  {
   "cell_type": "code",
   "execution_count": 7,
   "metadata": {},
   "outputs": [],
   "source": [
    "mocap_file = \"80_postproc_partial.json\"\n",
    "input_labels = [\"lhumerus\", 'lwrist']\n",
    "output_label = \"lradius\"\n",
    "\n",
    "x_train, y_train, x_test, y_test = TimeSeriesFormatter.get_data(mocap_file,\n",
    "                             input_labels, output_label)"
   ]
  },
  {
   "cell_type": "code",
   "execution_count": null,
   "metadata": {},
   "outputs": [],
   "source": [
    "model = tf.keras.models.Sequential()\n",
    "model.add(LSTM(8, return_sequences=True, activation=\"linear\", input_shape=(None, 3*len(input_labels),)))\n",
    "model.add(LSTM(8, return_sequences=True, activation=\"linear\"))\n",
    "model.add(TimeDistributed(Dense(3, activation='linear')))"
   ]
  },
  {
   "cell_type": "code",
   "execution_count": null,
   "metadata": {},
   "outputs": [],
   "source": [
    "model.compile(optimizer='adam',\n",
    "             loss=Metrics.mse_between_points,\n",
    "             metrics=[Metrics.mse_between_points, Metrics.mean_diff_error])"
   ]
  },
  {
   "cell_type": "code",
   "execution_count": null,
   "metadata": {},
   "outputs": [],
   "source": [
    "tensorboard = TensorBoard(log_dir='logs\\SimpleRNNModel\\{}'.format(time.strftime(\"%d-%m-%y_%H.%M.%S\")))\n",
    "model.fit(x_train, y_train, batch_size=64, epochs=20, callbacks=[tensorboard])"
   ]
  },
  {
   "cell_type": "code",
   "execution_count": null,
   "metadata": {},
   "outputs": [],
   "source": [
    "val_loss, val_mse_b_p, val_mean_diff = model.evaluate(x_test, y_test)"
   ]
  },
  {
   "cell_type": "code",
   "execution_count": null,
   "metadata": {},
   "outputs": [],
   "source": [
    "print(val_loss, val_mse_b_p, val_mean_diff)"
   ]
  },
  {
   "cell_type": "code",
   "execution_count": null,
   "metadata": {},
   "outputs": [],
   "source": []
  }
 ],
 "metadata": {
  "kernelspec": {
   "display_name": "Python 3",
   "language": "python",
   "name": "python3"
  },
  "language_info": {
   "codemirror_mode": {
    "name": "ipython",
    "version": 3
   },
   "file_extension": ".py",
   "mimetype": "text/x-python",
   "name": "python",
   "nbconvert_exporter": "python",
   "pygments_lexer": "ipython3",
   "version": "3.7.4"
  }
 },
 "nbformat": 4,
 "nbformat_minor": 2
}
